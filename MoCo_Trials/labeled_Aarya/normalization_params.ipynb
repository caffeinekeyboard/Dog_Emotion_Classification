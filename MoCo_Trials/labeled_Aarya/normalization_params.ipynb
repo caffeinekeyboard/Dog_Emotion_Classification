{
 "cells": [
  {
   "cell_type": "code",
   "execution_count": 1,
   "metadata": {},
   "outputs": [],
   "source": [
    "import logging\n",
    "import os \n",
    "import random\n",
    "from functools import partial\n",
    "\n",
    "import torch\n",
    "from PIL import ImageFilter\n",
    "from torchvision import datasets, transforms\n",
    "from torchvision.models import resnet \n",
    "from tqdm import tqdm \n",
    "import numpy as np\n",
    "\n",
    "from pytorch_metric_learning import losses\n",
    "from pytorch_metric_learning.utils import logging_presets\n",
    "\n",
    "logging.getLogger().setLevel(logging.INFO)\n",
    "\n",
    "device = torch.device(\"cuda\")"
   ]
  },
  {
   "cell_type": "code",
   "execution_count": 3,
   "metadata": {},
   "outputs": [],
   "source": [
    "dataset = datasets.ImageFolder('data/train', transform=transforms.ToTensor())"
   ]
  },
  {
   "cell_type": "code",
   "execution_count": 4,
   "metadata": {},
   "outputs": [
    {
     "name": "stdout",
     "output_type": "stream",
     "text": [
      "tensor([0.5435, 0.5091, 0.4462])\n"
     ]
    }
   ],
   "source": [
    "mean = 0.0\n",
    "for img, _ in dataset:\n",
    "    #mean += img.sum([1,2])/torch.numel(img[0])\n",
    "    mean += img.mean([1,2])\n",
    "mean = mean/len(dataset)\n",
    "print(mean)"
   ]
  },
  {
   "cell_type": "code",
   "execution_count": 5,
   "metadata": {},
   "outputs": [],
   "source": [
    "sumel = 0.0\n",
    "countel = 0\n",
    "for img, _ in dataset:\n",
    "    img = (img - mean.unsqueeze(1).unsqueeze(1))**2\n",
    "    sumel += img.sum([1, 2])\n",
    "    countel += torch.numel(img[0])\n",
    "std = torch.sqrt(sumel/countel)"
   ]
  },
  {
   "cell_type": "code",
   "execution_count": 6,
   "metadata": {},
   "outputs": [
    {
     "data": {
      "text/plain": [
       "tensor([0.2979, 0.2869, 0.2920])"
      ]
     },
     "execution_count": 6,
     "metadata": {},
     "output_type": "execute_result"
    }
   ],
   "source": [
    "std"
   ]
  },
  {
   "cell_type": "code",
   "execution_count": null,
   "metadata": {},
   "outputs": [],
   "source": []
  }
 ],
 "metadata": {
  "kernelspec": {
   "display_name": "pyTorch",
   "language": "python",
   "name": "python3"
  },
  "language_info": {
   "codemirror_mode": {
    "name": "ipython",
    "version": 3
   },
   "file_extension": ".py",
   "mimetype": "text/x-python",
   "name": "python",
   "nbconvert_exporter": "python",
   "pygments_lexer": "ipython3",
   "version": "3.9.18"
  }
 },
 "nbformat": 4,
 "nbformat_minor": 2
}
